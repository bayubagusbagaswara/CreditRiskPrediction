{
  "nbformat": 4,
  "nbformat_minor": 0,
  "metadata": {
    "colab": {
      "name": "CreditRiskPrediction.ipynb",
      "provenance": [],
      "toc_visible": true,
      "collapsed_sections": [],
      "authorship_tag": "ABX9TyOwUskjCHLK7damFaVx5XEE",
      "include_colab_link": true
    },
    "kernelspec": {
      "name": "python3",
      "display_name": "Python 3"
    },
    "language_info": {
      "name": "python"
    }
  },
  "cells": [
    {
      "cell_type": "markdown",
      "metadata": {
        "id": "view-in-github",
        "colab_type": "text"
      },
      "source": [
        "<a href=\"https://colab.research.google.com/github/bayubagusbagaswara/CreditRiskPrediction/blob/master/CreditRiskPrediction.ipynb\" target=\"_parent\"><img src=\"https://colab.research.google.com/assets/colab-badge.svg\" alt=\"Open In Colab\"/></a>"
      ]
    },
    {
      "cell_type": "markdown",
      "source": [
        "# Business Understanding"
      ],
      "metadata": {
        "id": "nGECMArYq4D0"
      }
    },
    {
      "cell_type": "markdown",
      "source": [
        "Perusahaan Lending adalah sebuah perusahaan yang bergerak dalam bidang peminjaman uang. Dimana operasional bisnisnya sangat bergantung dengan kelancaran aliran dana (cashflow). Selama ini perusahaan merasa adanya ketidakefektifan dalam penentuan calon debitur, karena laporan keuangan mengalami kredit macet (gagal bayar). Hal ini menyebabkan perusahaan mengalami kerugian yang cukup signifikan. Data Science diharapkan mampu menganalisis data dan melakukan prediksi kedepan berdasarkan data yang telah disediakan oleh perusahaan. Data tersebut terdiri dari pinjaman yang diterima dan pinjaman yang ditolak. Pada akhirnya, perusahaan mengharapkan terknologi dapat memberikan solusi untuk masalah bisnisnya, dalam hal ini adalah memprediksi risiko kredit. Tujuannya adalah untuk mengurangi risiko gagal bayar dan meningkatkan keuntungan perusahaan itu sendiri."
      ],
      "metadata": {
        "id": "IzDDl_OyxZJV"
      }
    },
    {
      "cell_type": "markdown",
      "source": [
        "# Analytic Approach"
      ],
      "metadata": {
        "id": "6IAda6ka3GGe"
      }
    },
    {
      "cell_type": "markdown",
      "source": [
        "Pada kasus penentuan calon debitur yang disetujui maupun ditolak pengajuan pinjamannya sangat erat kaitannya dengan probabilitas. Oleh karena itu, dalam perancangan model machine learning kita akan menggunakan algoritma Logistic Regression dan Random Forest."
      ],
      "metadata": {
        "id": "bxIM-oJA3I9c"
      }
    },
    {
      "cell_type": "markdown",
      "source": [
        "# Data Requirement"
      ],
      "metadata": {
        "id": "q1Jj9YcfKy0m"
      }
    },
    {
      "cell_type": "markdown",
      "source": [
        "Tahap ini kita akan mulai dengan menyiapkan data dan menentukan target variable sebagai data utama pada pembuatan model machine learning nanti."
      ],
      "metadata": {
        "id": "gZg8x-R7LOYI"
      }
    },
    {
      "cell_type": "markdown",
      "source": [
        "## Preparing Data"
      ],
      "metadata": {
        "id": "tJSWn-ivK06w"
      }
    },
    {
      "cell_type": "markdown",
      "source": [
        "### Open Drive for File Location"
      ],
      "metadata": {
        "id": "_tNebHFIK7Cr"
      }
    },
    {
      "cell_type": "markdown",
      "source": [
        "File dataset kita berlokasi di drive, sehingga kita harus menyambungkan dengan drive agar bisa membaca file datasetnya."
      ],
      "metadata": {
        "id": "qhmECJF3LyJW"
      }
    },
    {
      "cell_type": "code",
      "source": [
        "# open drive for file location\n",
        "from google.colab import drive\n",
        "drive.mount('/content/drive')\n",
        "%cd /content"
      ],
      "metadata": {
        "colab": {
          "base_uri": "https://localhost:8080/"
        },
        "id": "c8tdbSB4LC6P",
        "outputId": "f2f546a9-e12f-406e-9002-e38688afa474"
      },
      "execution_count": 1,
      "outputs": [
        {
          "output_type": "stream",
          "name": "stdout",
          "text": [
            "Mounted at /content/drive\n",
            "/content\n"
          ]
        }
      ]
    },
    {
      "cell_type": "markdown",
      "source": [
        "### Import Libraries"
      ],
      "metadata": {
        "id": "UUoSk3L7LmpS"
      }
    },
    {
      "cell_type": "markdown",
      "source": [
        "Lakukan importing library apa saja yang akan kita butuhkan."
      ],
      "metadata": {
        "id": "Ba4nEBDhLoxl"
      }
    },
    {
      "cell_type": "code",
      "source": [
        "# import libraries\n",
        "import pandas as pd\n",
        "import numpy as np \n",
        "import matplotlib.pyplot as plt\n",
        "import seaborn as sns\n",
        "sns.set()\n",
        "\n",
        "pd.set_option('display.max_columns', None)\n",
        "pd.set_option(\"display.max_rows\", 100)\n",
        "pd.set_option(\"display.max_colwidth\", 1000)"
      ],
      "metadata": {
        "id": "_VUTbsXZL_an"
      },
      "execution_count": 2,
      "outputs": []
    },
    {
      "cell_type": "markdown",
      "source": [
        "### Read Dataset"
      ],
      "metadata": {
        "id": "7eSe0wbNNHxh"
      }
    },
    {
      "cell_type": "code",
      "source": [
        "# read dataset\n",
        "df_loan_raw = pd.read_csv('/content/drive/MyDrive/Dataset/loan_data_2007_2014.csv', low_memory=False)"
      ],
      "metadata": {
        "id": "XWP2qeffNJfB"
      },
      "execution_count": 3,
      "outputs": []
    },
    {
      "cell_type": "markdown",
      "source": [
        "### Copy Dataframe"
      ],
      "metadata": {
        "id": "jOhzdOgINUnV"
      }
    },
    {
      "cell_type": "code",
      "source": [
        "# copy dataframe\n",
        "df_loan_ori = df_loan_raw.copy()"
      ],
      "metadata": {
        "id": "IH2qQChtNXST"
      },
      "execution_count": 4,
      "outputs": []
    },
    {
      "cell_type": "markdown",
      "source": [
        "### Check Info Dataframe"
      ],
      "metadata": {
        "id": "jOEarMHGNbPS"
      }
    },
    {
      "cell_type": "code",
      "source": [
        "# check info dataframe\n",
        "df_loan_ori.info()"
      ],
      "metadata": {
        "id": "jgl4pMoONfiX"
      },
      "execution_count": null,
      "outputs": []
    },
    {
      "cell_type": "code",
      "source": [
        "# check the top 5 data\n",
        "df_loan_ori.head()"
      ],
      "metadata": {
        "id": "yiU679LOOFaM"
      },
      "execution_count": null,
      "outputs": []
    }
  ]
}